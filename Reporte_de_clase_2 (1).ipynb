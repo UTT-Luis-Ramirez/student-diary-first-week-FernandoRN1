{
  "nbformat": 4,
  "nbformat_minor": 0,
  "metadata": {
    "colab": {
      "provenance": []
    },
    "kernelspec": {
      "name": "python3",
      "display_name": "Python 3"
    },
    "language_info": {
      "name": "python"
    }
  },
  "cells": [
    {
      "cell_type": "markdown",
      "source": [
        "#**Que es la poblacion?**"
      ],
      "metadata": {
        "id": "HAQloMp-aqdC"
      }
    },
    {
      "cell_type": "markdown",
      "source": [
        "La población se refiere al conjunto completo de elementos o individuos que tienen una característica común y sobre los cuales se desea obtener información o realizar un estudio. Esta población puede ser finita o infinita, y el propósito es hacer inferencias o generalizaciones basadas en una muestra seleccionada de esa población.\n",
        "<br>\n",
        "\n",
        "los conjuntos o las poblaciones pueden clasificarse en dos tipos principales según el número de elementos que contienen: finito e infinito.\n",
        "\n",
        "<br>\n",
        "\n",
        "**Conjunto finito.**\n",
        "\n",
        "Un conjunto finito es aquel que contiene un número contable y limitado de elementos. Es decir, se puede contar cuántos elementos tiene.\n",
        "\n",
        "<br>\n",
        "\n",
        "**Conjunto infinito.**\n",
        "\n",
        "Un conjunto infinito es aquel que contiene un número no contable y sin límite de elementos. No se puede contar cuántos elementos tiene porque el número es ilimitado.\n",
        "\n",
        "---\n",
        "\n"
      ],
      "metadata": {
        "id": "5X3i2oDlbAd-"
      }
    },
    {
      "cell_type": "markdown",
      "source": [
        "<br>"
      ],
      "metadata": {
        "id": "nZZ26aZyqyEZ"
      }
    },
    {
      "cell_type": "markdown",
      "source": [
        "#**Teoria de conjuntos**"
      ],
      "metadata": {
        "id": "KOyv-MZBbVF1"
      }
    },
    {
      "cell_type": "markdown",
      "source": [
        "La teoría de conjuntos es una rama de las matemáticas que estudia los conjuntos, que son simplemente colecciones de objetos o elementos. Los elementos de un conjunto pueden ser cualquier cosa: números, letras, personas, objetos, etc.\n",
        "\n",
        "<br>\n",
        "\n",
        "universo\n",
        "\n",
        "población\n",
        "\n",
        "alumnos de ti\n",
        "\n",
        "A= Alumnos de ti en 2do cuatri\n",
        "B= \"   \" EN 4to cuatri\n",
        "\n",
        "<br>\n",
        "\n",
        "**Existen dos tipos de conjuntos.**\n",
        "\n",
        "<br>\n",
        "\n",
        "**Conjunto excluyente.**\n",
        "\n",
        "Cuando decimos que dos conjuntos son excluyentes o disjuntos, significa que no tienen elementos en común. Es decir, la intersección de esos conjuntos es el conjunto vacío.\n",
        "\n",
        "<br>\n",
        "\n",
        "**Conjunto incluyente.**\n",
        "\n",
        "Un conjunto está completamente dentro de otro es un subconjunto por ejemplo A toda su informacion esta dentro de B a pesar de que no son iguales esto forma un subconjunto.\n",
        "\n",
        "conjunto especifico AA pertenece al conjunto A si pertenece\n",
        "A ∈ B si NO pertenece A ∈/ B el simbolo representa lo que es el conjunto.\n",
        "\n",
        "---\n",
        "\n"
      ],
      "metadata": {
        "id": "somNfcOabiSU"
      }
    },
    {
      "cell_type": "markdown",
      "source": [
        "<br>"
      ],
      "metadata": {
        "id": "hqB1ITKoq92e"
      }
    },
    {
      "cell_type": "markdown",
      "source": [
        "#**Que es un data center?**"
      ],
      "metadata": {
        "id": "LuXGoNxHfIbC"
      }
    },
    {
      "cell_type": "markdown",
      "source": [
        "Es un espacio físico donde se agrupan grandes cantidades de servidores y otros equipos de tecnología, como almacenamiento y redes, para almacenar, procesar y gestionar datos de manera centralizada.\n",
        "\n",
        "\n",
        "\n",
        "---\n",
        "\n"
      ],
      "metadata": {
        "id": "zSMLx3R3fRVR"
      }
    },
    {
      "cell_type": "markdown",
      "source": [
        "<br>"
      ],
      "metadata": {
        "id": "BS0XeH49q_wQ"
      }
    },
    {
      "cell_type": "markdown",
      "source": [
        "#**Que son las muestras?**"
      ],
      "metadata": {
        "id": "dkPVFdxogwkB"
      }
    },
    {
      "cell_type": "markdown",
      "source": [
        "Una muestra es un subconjunto de una población más grande que\n",
        "se selecciona con el fin de hacer observaciones, recolectar datos y realizar análisis. La muestra se utiliza para hacer inferencias o estimaciones sobre la población total sin necesidad de estudiar a todos los elementos de esa población, lo que sería mucho más costoso o complicado.\n",
        "\n",
        "---\n",
        "\n"
      ],
      "metadata": {
        "id": "miD7WiHwg2LX"
      }
    },
    {
      "cell_type": "markdown",
      "source": [
        "<br>"
      ],
      "metadata": {
        "id": "T4NZ69vVrDJG"
      }
    },
    {
      "cell_type": "markdown",
      "source": [
        "#**Parametros y valores estadisticos**"
      ],
      "metadata": {
        "id": "trAnISdHhJHO"
      }
    },
    {
      "cell_type": "markdown",
      "source": [
        "**Parámetros.**\n",
        "\n",
        "Un parámetro es una medida o característica que describe una población completa. Los parámetros se utilizan para dar una descripción precisa de la población, pero a menudo son desconocidos porque generalmente no es posible estudiar toda una población. Los parámetros son valores fijos que no cambian, pero a menudo no se conocen directamente.\n",
        "\n",
        "<br>\n",
        "\n",
        "**Valores estadísticos.**\n",
        "\n",
        "Un valor estadístico es una medida calculada a partir de los datos de una muestra. Los valores estadísticos se utilizan para hacer inferencias sobre los parámetros de la población. A diferencia de los parámetros, los valores estadísticos pueden variar de una muestra a otra, porque dependen de los datos seleccionados.\n",
        "\n",
        "---\n",
        "\n"
      ],
      "metadata": {
        "id": "b3779wlWhOgm"
      }
    },
    {
      "cell_type": "markdown",
      "source": [
        "<br>"
      ],
      "metadata": {
        "id": "ymcLotOmrFls"
      }
    },
    {
      "cell_type": "markdown",
      "source": [
        "#**Como se hace un muestreo?**"
      ],
      "metadata": {
        "id": "BTwfDrOwiFIj"
      }
    },
    {
      "cell_type": "markdown",
      "source": [
        "**Tipos de muestreo.**\n",
        "\n",
        "P**robabilístico.** (que es aleatorio)\n",
        "\n",
        "\n",
        "\n",
        "**Sistematizado.** (sistema de selección aleatoria aleatorio simple 8que se lo que dio quiera)\n",
        "\n",
        "**Estratificado.** (divide la población homogéneos y toma una muestra)\n",
        "\n",
        "**Conglomeración.** (divide conjunto en sección toma vario de estas secciones para sacar un análisis estadístico)\n",
        "\n",
        "<br>\n",
        "\n",
        "Desventajas.\n",
        "pueden tomar datos inconclusos.\n",
        "\n",
        "probabilístico.\n",
        "\n",
        "4 tipos\n",
        "\n",
        "<br>\n",
        "\n",
        "**Conveniencia.** (se toman datos mas accesibles a la información)\n",
        "\n",
        "**Por Juicio.** (criterio de una persona experto para escoger los dato) (señoriti tiempo trabajando)\n",
        "\n",
        "**Cuotas.** (toma datos según una proporción especificada)\n",
        "\n",
        "**Bola de nieve.** (Se selecciona un pequeño grupo de personas que cumplen con los criterios para ser parte del estudio. Estos primeros participantes son conocidos como semilla o nodo inicial. )\n",
        "\n",
        "<br>\n",
        "\n",
        "Ventaja.\n",
        "\n",
        "Evadir dato representativos de la población.\n",
        "\n",
        "---\n",
        "\n"
      ],
      "metadata": {
        "id": "G3NL2F8kiMdP"
      }
    }
  ]
}