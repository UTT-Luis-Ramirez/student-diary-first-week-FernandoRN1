{
  "nbformat": 4,
  "nbformat_minor": 0,
  "metadata": {
    "colab": {
      "provenance": []
    },
    "kernelspec": {
      "name": "python3",
      "display_name": "Python 3"
    },
    "language_info": {
      "name": "python"
    }
  },
  "cells": [
    {
      "cell_type": "markdown",
      "source": [
        "#**Estadistica**"
      ],
      "metadata": {
        "id": "-ARs6JP7POJD"
      }
    },
    {
      "cell_type": "markdown",
      "source": [
        "La estadistica es una rama de las matematicas que se encarga de la recoleccion, organizacion, analisis e interpretacion de datos. Estos datos se utilizan para comprender patrones, tendencias y relaciones en un conjunto de informacion. El objetivo principal de la estadistica es proporcionar herramientas para la toma de desiciones informadas y la resolucion de problemas en diversos campos.\n",
        "\n",
        "La estadistica se aplica en 4 areas investigacion cinetifica:\n",
        "\n",
        "Economia, Medicina, ciencias, sociales, tiene una funcion de un muestreo.\n",
        "\n",
        "En resumen la estadistica es una herramienta esencial para comprender el mundo que nos rodea y que no podemos percibir de a simple vista.\n",
        "\n",
        "Existen 2 tipos."
      ],
      "metadata": {
        "id": "BqratsWJPla_"
      }
    },
    {
      "cell_type": "markdown",
      "source": [
        "#**Estadstica Descriptiva**"
      ],
      "metadata": {
        "id": "JZthWDT0Q439"
      }
    },
    {
      "cell_type": "markdown",
      "source": [
        "La estadistica descriptiva es una rama de la estadistica que se encarga de resumir y describir las caracteristicas principales de un conjunto de datos. Su objetivo es organizar, presentar y analizar la informacion de manera que sea facil de comprender e interpretar.\n",
        "\n",
        "Se maneja por: Descriptiva, Medidas de controles, Disperciones, Grafico.\n",
        "\n",
        "![estadistica-descriptiva-pasos.svg](data:image/svg+xml;base64,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)\n",
        "\n",
        "Funciones principales:\n",
        "\n",
        "1. Recoleccion y organizacion de datos.\n",
        "2. Calculo de medidas descriptivas.\n",
        "3. Presentacion de datos.\n",
        "4. Identificacion de patrones y relaciones."
      ],
      "metadata": {
        "id": "yiPUpK5WRP7c"
      }
    },
    {
      "cell_type": "markdown",
      "source": [
        "#**Estadistica Interferencial**"
      ],
      "metadata": {
        "id": "4Vrl_bI2TGod"
      }
    },
    {
      "cell_type": "markdown",
      "source": [
        "Es la rama que nospermite desscribir el comportamiento.\n",
        "\n",
        "se maneja por: Probabilidades, Muestreo, Hipotesis, Teorias Y Leyes.\n",
        "\n",
        "Esta rama de la estadistica se encarga de extraer conclusiones sobre una poblacion a partir de una muesra de datos. Su objetivo es generalizar los resultados obtenidos en la muestra a la poblacion de interes, utilizando metodos probabilisticos para cuantificar la incertidumbre asociada a estas inferencias.\n",
        "\n",
        "![estadistica-inferencial.svg](data:image/svg+xml;base64,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)\n",
        "\n",
        "Funcions principales:\n",
        "\n",
        "1. Estimacion de parametros.\n",
        "2. pruebas de hipotesis.\n",
        "3. Intervalos de confianza.\n",
        "4. Modelado estadístico."
      ],
      "metadata": {
        "id": "pphhn-W1TSWl"
      }
    },
    {
      "cell_type": "markdown",
      "source": [],
      "metadata": {
        "id": "iClJqupXVbZ5"
      }
    }
  ]
}