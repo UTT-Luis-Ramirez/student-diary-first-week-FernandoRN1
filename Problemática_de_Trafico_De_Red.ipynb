{
  "nbformat": 4,
  "nbformat_minor": 0,
  "metadata": {
    "colab": {
      "provenance": []
    },
    "kernelspec": {
      "name": "python3",
      "display_name": "Python 3"
    },
    "language_info": {
      "name": "python"
    }
  },
  "cells": [
    {
      "cell_type": "markdown",
      "source": [
        "#**Problematica De Trafico De Red**"
      ],
      "metadata": {
        "id": "jmky0H7BYbJ-"
      }
    },
    {
      "cell_type": "markdown",
      "source": [
        "Analizamos la situacion que fue de un problema que hay en el renvio de formulario de las paginas web que tarda mucho en cargar las paginas.\n",
        "\n",
        "<br>\n",
        "\n",
        "**Identificamos patrones.**\n",
        "\n",
        "Al parecer hay momento en los que no carga y nunca puedes acceder esto por la alta demanda que tienen las paginas.\n",
        "\n",
        "<br>\n",
        "\n",
        "**Anomalias.**\n",
        "\n",
        "Analizamos varias hipotesis y nos dimos cuenta de los posibles problemas que existen.\n",
        "\n",
        "<br>\n",
        "\n",
        "**En la primera hipotesis:**\n",
        "\n",
        "Podriamos darnos cuenta en la estadistica como aumentan los numeros de las horas en la que los clientes o personas ingresan a la pagina y en las horas pico son donde hay mas tiempos de carga, esto es por que en esas horas una cantidad grande de pesonas que sobrepasan los limites de usuario intenta ingresar al mismo tiempo y por eso ocurre este problema.\n",
        "\n",
        "<br>\n",
        "\n",
        "**En la segunda hipotesis:**\n",
        "\n",
        "Al verificar la estadistica fuera de las horas pico la transmición de los datos deberia ser normal y no como en las horas pico que se satura.\n",
        "\n",
        "Probablemente estemos recibiendo un replay atack que esta afectando en la funcion correcta de la transmicón de los datos.\n",
        "\n",
        "<br>\n",
        "\n",
        "**El replay attack (ataque de repetición)**\n",
        "\n",
        "Es uno de los civerataques mas conocido en paginas de red, lo que hace este ataque es renviar el formulario los datos o la informacion varias veces como si tu estuvieras dando refresh a la pagina para que cargue y lo hace constantemente para evitar que tu puedas ingresar.\n",
        "\n",
        "Tambien es posible que puedan ingresar en los datos y mandar datos incorrectos y asi perdiendo los datos reales que deverian ser para ingresar, otra forma es renviar datos a los clientes para tambien evitar el funcionamento.\n",
        "\n",
        "Es posible que durante este tiempo pudan robarte datos o robar datos de la pagina por medio de los usarios.\n",
        "\n",
        "<br>\n",
        "\n",
        "**En la tercera hipotesis:**\n",
        "\n",
        "pueden ser problemas de red de la empresa por la falta de mantenimiento causando un funcionamiento incorrecto, esto ya seria mas de la empresa o psiblemente viendo desde la perspectiva del usuario el es el que tiene los problemas en su red."
      ],
      "metadata": {
        "id": "JHNq-kEcY_wv"
      }
    },
    {
      "cell_type": "markdown",
      "source": [],
      "metadata": {
        "id": "83m90LqZY9Dl"
      }
    }
  ]
}